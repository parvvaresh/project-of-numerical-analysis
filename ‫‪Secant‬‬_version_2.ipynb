{
  "nbformat": 4,
  "nbformat_minor": 0,
  "metadata": {
    "colab": {
      "provenance": [],
      "authorship_tag": "ABX9TyNIc/IcMWZTdvK466TsMViC",
      "include_colab_link": true
    },
    "kernelspec": {
      "name": "python3",
      "display_name": "Python 3"
    },
    "language_info": {
      "name": "python"
    }
  },
  "cells": [
    {
      "cell_type": "markdown",
      "metadata": {
        "id": "view-in-github",
        "colab_type": "text"
      },
      "source": [
        "<a href=\"https://colab.research.google.com/github/parvvaresh/project-of-numerical-analysis/blob/master/%E2%80%AB%E2%80%AASecant%E2%80%AC%E2%80%AC_version_2.ipynb\" target=\"_parent\"><img src=\"https://colab.research.google.com/assets/colab-badge.svg\" alt=\"Open In Colab\"/></a>"
      ]
    },
    {
      "cell_type": "markdown",
      "source": [
        "Execute the code with the error : \n",
        "\n",
        "![Screenshot from 2022-12-19 02-01-57 (1).png](data:image/png;base64,iVBORw0KGgoAAAANSUhEUgAAAF4AAAAgCAAAAAC+kZADAAAABGdBTUEAALGPC/xhBQAAACBjSFJNAAB6JgAAgIQAAPoAAACA6AAAdTAAAOpgAAA6mAAAF3CculE8AAAAAmJLR0QA/4ePzL8AAAAHdElNRQfmDBIWKiB/hxMIAAAAAW9yTlQBz6J3mgAAArJJREFUSMdj+E9TwDBq/Kjxo8aPGo9p/NkzMP69bds/Qlj372NRfv05jIXQQth4b3cI73NgUh7DdRDrTazFKSzKd+nlfv2PooUU40O9//+f/w/IeKlR8Rer+p9xll9wG/8Vr/FXGVZBhd0Ccbnnj0kSLuNvZhrhNT6f4SVEdCvjTQjjH5bwYbyA1fj9voxma5AF/qIafyGEhVFe/jSYbw4W/pXI6vf//25ZL2Rd/yQzMY3/tdiQJfwYsk+ihXhEJyIb//O9cPT79yA7f7KXgoVb5vUxXL4kVzoRxZkRsujGv2uXFq54jKzmKE/G0//f36EEzm2GaRDJCwxzwPTv/y8Y+o3QU1A9w1sU4+9mc2vP/Iai5I10BmbYL2SApuXtDOthClW4lqMH/iSGqyjGx7POQVfSznzm8ePHH1GNT+f4BZFdz7AVpjBMBiNuZ4BdgTD+mBtL8EFUJfq8ykCwANV4XUuo7C6G1VDWJQlwSKCAPoYbaGF/JYndYP4PJCWcxf8xAucjUz4s2hmgkflKbwvDJhDj0PQ/TycegggWM335j55yXtaJitU+g/H+cRRiGr+TYRlU8C9fGoja2W+46q9A7IuY/7MqhSakZHBAHOih+f8/Zrr/PkuLNfo0lOMoD8xAj1CNr2e4A1MbrQQiU5k6//8vZVC89P/nf5Ho/ydZf4NEv/FUYTMe6OZtLhpQ5lUtTk2l0H8oxruJw1WeYtgLJN+/A7Gf/AQSdxnu/p9qDJaby/4Yu/FA8ADOevHsD2rg/OBORqhL1v+Oom+R8v//IXkg1luplv84jccACOPnsV1DCH/z9HiHrCw9+v9/+SVHvv1/ZJL4l2Tj/by+OstvRRb/3ae7C4mrM/n/fyf12n+L9BZARfy8iDceWM4+RZf5+wVN4DcwF34ixkwsxtMIAAD64se+rorKggAAACV0RVh0ZGF0ZTpjcmVhdGUAMjAyMi0xMi0xOFQyMjo0MjoxOCswMDowMA3xWmkAAAAldEVYdGRhdGU6bW9kaWZ5ADIwMjItMTItMThUMjI6NDI6MTgrMDA6MDB8rOLVAAAAGXRFWHRTb2Z0d2FyZQBnbm9tZS1zY3JlZW5zaG907wO/PgAAAABJRU5ErkJggg==)"
      ],
      "metadata": {
        "id": "08s8d7eIv5_C"
      }
    },
    {
      "cell_type": "code",
      "source": [
        "#Define the objective function\n",
        "def founction(x):\n",
        "  return (x ** 3) - x - 2"
      ],
      "metadata": {
        "id": "zAfizLWZwGj8"
      },
      "execution_count": null,
      "outputs": []
    },
    {
      "cell_type": "code",
      "source": [
        "#Implementation of the part formula: ‫‪Secant‬‬\n",
        "def seacent_calcute_x(x_n_1, x_n_2):\n",
        "  return ((x_n_1 * founction(x_n_2)) - (x_n_2 * founction(x_n_1))) / (founction(x_n_2) - founction(x_n_1))"
      ],
      "metadata": {
        "id": "rZHdW4guwNIY"
      },
      "execution_count": null,
      "outputs": []
    },
    {
      "cell_type": "code",
      "source": [
        "#Function input : 2 initial guess and error and steps\n",
        "def seacent(x_n_1, x_n_2, error = 1e-10, step = 0):\n",
        "  x = seacent_calcute_x(x_n_1, x_n_2)  # Calculate x(n) with the function we defined ourselves\n",
        "\n",
        "  if abs(founction(x)) < error:  # If the error condition is met, you should not continue and end of work\n",
        "    return f\"The root of the function is: {x} and number of step {step + 1}\" # # <step + 1> Because a move was made but not counted\n",
        "  else:\n",
        "    return seacent(x, x_n_1, 1e-10, step + 1) #go to next step"
      ],
      "metadata": {
        "id": "qS4kcoAQwR6z"
      },
      "execution_count": null,
      "outputs": []
    },
    {
      "cell_type": "code",
      "source": [
        "seacent(1, 2, 1e-10, 0)"
      ],
      "metadata": {
        "id": "jKgntGwcwaXr",
        "outputId": "690d9192-4109-4138-990e-39ce0f1c15dc",
        "colab": {
          "base_uri": "https://localhost:8080/",
          "height": 36
        }
      },
      "execution_count": null,
      "outputs": [
        {
          "output_type": "execute_result",
          "data": {
            "text/plain": [
              "'The root of the function is: 1.5213797068040895 and number of step 7'"
            ],
            "application/vnd.google.colaboratory.intrinsic+json": {
              "type": "string"
            }
          },
          "metadata": {},
          "execution_count": 4
        }
      ]
    }
  ]
}