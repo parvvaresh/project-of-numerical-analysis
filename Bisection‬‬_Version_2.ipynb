{
  "nbformat": 4,
  "nbformat_minor": 0,
  "metadata": {
    "colab": {
      "provenance": [],
      "authorship_tag": "ABX9TyM8JwynWT5/ll9O/hq9lzh6",
      "include_colab_link": true
    },
    "kernelspec": {
      "name": "python3",
      "display_name": "Python 3"
    },
    "language_info": {
      "name": "python"
    }
  },
  "cells": [
    {
      "cell_type": "markdown",
      "metadata": {
        "id": "view-in-github",
        "colab_type": "text"
      },
      "source": [
        "<a href=\"https://colab.research.google.com/github/parvvaresh/project-of-numerical-analysis/blob/master/Bisection%E2%80%AC%E2%80%AC_Version_2.ipynb\" target=\"_parent\"><img src=\"https://colab.research.google.com/assets/colab-badge.svg\" alt=\"Open In Colab\"/></a>"
      ]
    },
    {
      "cell_type": "markdown",
      "source": [
        "Execute the code with the error : \n",
        "\n",
        "![Screenshot from 2022-12-19 02-01-57 (1).png](data:image/png;base64,iVBORw0KGgoAAAANSUhEUgAAAF4AAAAgCAAAAAC+kZADAAAABGdBTUEAALGPC/xhBQAAACBjSFJNAAB6JgAAgIQAAPoAAACA6AAAdTAAAOpgAAA6mAAAF3CculE8AAAAAmJLR0QA/4ePzL8AAAAHdElNRQfmDBIWKiB/hxMIAAAAAW9yTlQBz6J3mgAAArJJREFUSMdj+E9TwDBq/Kjxo8aPGo9p/NkzMP69bds/Qlj372NRfv05jIXQQth4b3cI73NgUh7DdRDrTazFKSzKd+nlfv2PooUU40O9//+f/w/IeKlR8Rer+p9xll9wG/8Vr/FXGVZBhd0Ccbnnj0kSLuNvZhrhNT6f4SVEdCvjTQjjH5bwYbyA1fj9voxma5AF/qIafyGEhVFe/jSYbw4W/pXI6vf//25ZL2Rd/yQzMY3/tdiQJfwYsk+ihXhEJyIb//O9cPT79yA7f7KXgoVb5vUxXL4kVzoRxZkRsujGv2uXFq54jKzmKE/G0//f36EEzm2GaRDJCwxzwPTv/y8Y+o3QU1A9w1sU4+9mc2vP/Iai5I10BmbYL2SApuXtDOthClW4lqMH/iSGqyjGx7POQVfSznzm8ePHH1GNT+f4BZFdz7AVpjBMBiNuZ4BdgTD+mBtL8EFUJfq8ykCwANV4XUuo7C6G1VDWJQlwSKCAPoYbaGF/JYndYP4PJCWcxf8xAucjUz4s2hmgkflKbwvDJhDj0PQ/TycegggWM335j55yXtaJitU+g/H+cRRiGr+TYRlU8C9fGoja2W+46q9A7IuY/7MqhSakZHBAHOih+f8/Zrr/PkuLNfo0lOMoD8xAj1CNr2e4A1MbrQQiU5k6//8vZVC89P/nf5Ho/ydZf4NEv/FUYTMe6OZtLhpQ5lUtTk2l0H8oxruJw1WeYtgLJN+/A7Gf/AQSdxnu/p9qDJaby/4Yu/FA8ADOevHsD2rg/OBORqhL1v+Oom+R8v//IXkg1luplv84jccACOPnsV1DCH/z9HiHrCw9+v9/+SVHvv1/ZJL4l2Tj/by+OstvRRb/3ae7C4mrM/n/fyf12n+L9BZARfy8iDceWM4+RZf5+wVN4DcwF34ixkwsxtMIAAD64se+rorKggAAACV0RVh0ZGF0ZTpjcmVhdGUAMjAyMi0xMi0xOFQyMjo0MjoxOCswMDowMA3xWmkAAAAldEVYdGRhdGU6bW9kaWZ5ADIwMjItMTItMThUMjI6NDI6MTgrMDA6MDB8rOLVAAAAGXRFWHRTb2Z0d2FyZQBnbm9tZS1zY3JlZW5zaG907wO/PgAAAABJRU5ErkJggg==)"
      ],
      "metadata": {
        "id": "gyk58vsRZeyg"
      }
    },
    {
      "cell_type": "code",
      "source": [
        "#Define the objective function\n",
        "def founction(x):\n",
        "  return (x ** 3) - x - 2"
      ],
      "metadata": {
        "id": "4fPdk0AdZ4YY"
      },
      "execution_count": null,
      "outputs": []
    },
    {
      "cell_type": "code",
      "source": [
        "#Definition of the function for theorem ‫‪<Bisection‬‬>\n",
        "\n",
        "#Function inputs that include the start and end of the range and  x(n - 1) from the previous steps and error value and steps\n",
        "def Bisection(a, b, x_before = None, error = 1e-10, step = 0):\n",
        "    #Checking the Bolzano theorem\n",
        "    if founction(a) * founction(b) >= 0:\n",
        "        return False  #return false\n",
        "    \n",
        "    else:\n",
        "         #In the best case, maybe the middle point is our root\n",
        "        if founction((a + b) / 2) == 0:\n",
        "            return f\"The root of the function is: {(a + b) / 2}  and number of step {step + 1}\" # <step + 1> Because a move was made but not counted\n",
        "                \n",
        "                \n",
        "                \n",
        "        #Here the interval is divided into two parts       (a, (a + b) / 2) and ((a + b) / 2, b)\n",
        "        else:\n",
        "            if founction(a) * founction((a + b) / 2) < 0:  #Examining Bolzano's theorem for the first interval means: << (a, (a + b) / 2) >>\n",
        "                if x_before != None:  #In the sense that it is not our first step\n",
        "                    if abs(founction((a + b)) / 2) < error:  # If the error condition is met, you should not continue and end of work\n",
        "                        return f\"The root of the function is: {(a + b) / 2} and number of step {step + 1} \"  # <step + 1> Because a move was made but not counted\n",
        "                    else:\n",
        "                        return Bisection(a , (a + b) / 2, (a + b) / 2 , error, step + 1) #The error condition is not met and the next step is taken\n",
        "                else: #It is the first step and must be produced x (n - 1)\n",
        "                    return Bisection(a, (a + b) / 2, (a + b) / 2, error, step + 1) #The interval has changed and saved this (a + b) / 2 to the previous << x_bofore >>\n",
        "            \n",
        "            elif founction((a + b) / 2) * founction(b) < 0:  #Examining Bolzano's theorem for the first interval means: << (a, (a + b) / 2) >>\n",
        "                if x_before != None:  #In the sense that it is not our first step\n",
        "                    if abs(founction((a + b) / 2)) < error:  # If the error condition is met, you should not continue and end of work\n",
        "                        return f\"The root of the function is: {(a + b) / 2} and number of step {step + 1}\"   # <step + 1> Because a move was made but not counted  \n",
        "                    else:\n",
        "                        return Bisection((a + b) / 2 , b, (a + b) / 2 , error, step + 1)#The error condition is not met and the next step is taken\n",
        "                else:  #It is the first step and must be produced x (n - 1)\n",
        "                    return Bisection((a + b) / 2, b, (a + b) / 2, error, step  + 1) #The interval has changed and saved this (a + b) / 2 to the previous << x_bofore >>"
      ],
      "metadata": {
        "id": "SIW4r1x1p8M8"
      },
      "execution_count": null,
      "outputs": []
    },
    {
      "cell_type": "code",
      "source": [
        "Bisection(1, 2, None, 1e-10, 0)"
      ],
      "metadata": {
        "colab": {
          "base_uri": "https://localhost:8080/",
          "height": 36
        },
        "id": "WAzGD6BqqP6v",
        "outputId": "b0740810-408d-4eb6-c356-0b23da4c0e1d"
      },
      "execution_count": null,
      "outputs": [
        {
          "output_type": "execute_result",
          "data": {
            "text/plain": [
              "'The root of the function is: 1.5213797067990527 and number of step 33'"
            ],
            "application/vnd.google.colaboratory.intrinsic+json": {
              "type": "string"
            }
          },
          "metadata": {},
          "execution_count": 6
        }
      ]
    }
  ]
}