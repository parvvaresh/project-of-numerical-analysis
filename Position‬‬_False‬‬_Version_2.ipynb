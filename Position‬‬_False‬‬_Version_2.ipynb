{
  "nbformat": 4,
  "nbformat_minor": 0,
  "metadata": {
    "colab": {
      "provenance": [],
      "authorship_tag": "ABX9TyOX8KkbllE+MjgV47ZerD+k",
      "include_colab_link": true
    },
    "kernelspec": {
      "name": "python3",
      "display_name": "Python 3"
    },
    "language_info": {
      "name": "python"
    }
  },
  "cells": [
    {
      "cell_type": "markdown",
      "metadata": {
        "id": "view-in-github",
        "colab_type": "text"
      },
      "source": [
        "<a href=\"https://colab.research.google.com/github/parvvaresh/project-of-numerical-analysis/blob/master/Position%E2%80%AC%E2%80%AC_False%E2%80%AC%E2%80%AC_Version_2.ipynb\" target=\"_parent\"><img src=\"https://colab.research.google.com/assets/colab-badge.svg\" alt=\"Open In Colab\"/></a>"
      ]
    },
    {
      "cell_type": "markdown",
      "source": [
        "Execute the code with the error : \n",
        "\n",
        "![Screenshot from 2022-12-19 02-01-57 (1).png](data:image/png;base64,iVBORw0KGgoAAAANSUhEUgAAAF4AAAAgCAAAAAC+kZADAAAABGdBTUEAALGPC/xhBQAAACBjSFJNAAB6JgAAgIQAAPoAAACA6AAAdTAAAOpgAAA6mAAAF3CculE8AAAAAmJLR0QA/4ePzL8AAAAHdElNRQfmDBIWKiB/hxMIAAAAAW9yTlQBz6J3mgAAArJJREFUSMdj+E9TwDBq/Kjxo8aPGo9p/NkzMP69bds/Qlj372NRfv05jIXQQth4b3cI73NgUh7DdRDrTazFKSzKd+nlfv2PooUU40O9//+f/w/IeKlR8Rer+p9xll9wG/8Vr/FXGVZBhd0Ccbnnj0kSLuNvZhrhNT6f4SVEdCvjTQjjH5bwYbyA1fj9voxma5AF/qIafyGEhVFe/jSYbw4W/pXI6vf//25ZL2Rd/yQzMY3/tdiQJfwYsk+ihXhEJyIb//O9cPT79yA7f7KXgoVb5vUxXL4kVzoRxZkRsujGv2uXFq54jKzmKE/G0//f36EEzm2GaRDJCwxzwPTv/y8Y+o3QU1A9w1sU4+9mc2vP/Iai5I10BmbYL2SApuXtDOthClW4lqMH/iSGqyjGx7POQVfSznzm8ePHH1GNT+f4BZFdz7AVpjBMBiNuZ4BdgTD+mBtL8EFUJfq8ykCwANV4XUuo7C6G1VDWJQlwSKCAPoYbaGF/JYndYP4PJCWcxf8xAucjUz4s2hmgkflKbwvDJhDj0PQ/TycegggWM335j55yXtaJitU+g/H+cRRiGr+TYRlU8C9fGoja2W+46q9A7IuY/7MqhSakZHBAHOih+f8/Zrr/PkuLNfo0lOMoD8xAj1CNr2e4A1MbrQQiU5k6//8vZVC89P/nf5Ho/ydZf4NEv/FUYTMe6OZtLhpQ5lUtTk2l0H8oxruJw1WeYtgLJN+/A7Gf/AQSdxnu/p9qDJaby/4Yu/FA8ADOevHsD2rg/OBORqhL1v+Oom+R8v//IXkg1luplv84jccACOPnsV1DCH/z9HiHrCw9+v9/+SVHvv1/ZJL4l2Tj/by+OstvRRb/3ae7C4mrM/n/fyf12n+L9BZARfy8iDceWM4+RZf5+wVN4DcwF34ixkwsxtMIAAD64se+rorKggAAACV0RVh0ZGF0ZTpjcmVhdGUAMjAyMi0xMi0xOFQyMjo0MjoxOCswMDowMA3xWmkAAAAldEVYdGRhdGU6bW9kaWZ5ADIwMjItMTItMThUMjI6NDI6MTgrMDA6MDB8rOLVAAAAGXRFWHRTb2Z0d2FyZQBnbm9tZS1zY3JlZW5zaG907wO/PgAAAABJRU5ErkJggg==)"
      ],
      "metadata": {
        "id": "fvo9swSHfpZI"
      }
    },
    {
      "cell_type": "code",
      "source": [
        "#Define the objective function\n",
        "def founction(x):\n",
        "  return (x ** 3) - x - 2"
      ],
      "metadata": {
        "id": "Kh0s2EXtftDh"
      },
      "execution_count": null,
      "outputs": []
    },
    {
      "cell_type": "code",
      "source": [
        "#Implementation of the part formula: position false\n",
        "def position_false_calcute_x(a ,b):\n",
        "    return ((a * founction(b)) - (b * founction(a))) / (founction(b) - founction(a))"
      ],
      "metadata": {
        "id": "HCgSTERUsdOm"
      },
      "execution_count": null,
      "outputs": []
    },
    {
      "cell_type": "code",
      "source": [
        "#Function inputs : The two ends of the interval and the value X the step of the arrow and the number of steps\n",
        "def position_false(a , b, x_before = None, error=1e-10, step = 0):\n",
        "    if founction(a) * founction(b) > 0:  #Checking the Bolzano theorem\n",
        "        return False  #return a false\n",
        "    else:\n",
        "        x = position_false_calcute_x(a, b)  #Calculation of X based on N's formula\n",
        "        if founction(x) == 0: #If the value of the function becomes zero at the same point, then we have reached our goal and the root has been found\n",
        "            return f\"The root of the function is: {x} and number of step {step + 1}\"  #<step + 1> Because a move was made but not counted\n",
        "\n",
        "        #Here the interval is divided into two parts       (a, x) and (x, b)\n",
        "        elif founction(a) * founction(x) < 0: #Examining Bolzano's theorem for the first interval means: << (a, x) >>\n",
        "            if x_before != None:  #In the sense that it is not our first step\n",
        "                if abs(founction(x)) < error: # If the error condition is met, you should not continue and end of work\n",
        "                    return f\"The root of the function is: {x} and number of step {step + 1}\" # <step + 1> Because a move was made but not counted\n",
        "                else:\n",
        "                    return position_false(a ,x ,x ,error, step + 1) #The error condition is not met and the next step is taken\n",
        "            else:   #It is the first step and must be produced x (n - 1)\n",
        "                return position_false(a ,x ,x ,error, step + 1)  #The interval has changed and saved this x to the previous << x_bofore >>\n",
        "            \n",
        "        \n",
        "        elif founction(x) * founction(b) < 0:  #Examining Bolzano's theorem for the first interval means: << (x, b) >>\n",
        "            if x_before != None: #In the sense that it is not our first step\n",
        "                if abs(founction(x)) < error: # If the error condition is met, you should not continue and end of work\n",
        "                    return f\"The root of the function is: {x} and number of step {step + 1}\"  # <step + 1> Because a move was made but not counted\n",
        "                else:\n",
        "                    return position_false(x ,b ,x ,error, step + 1) #The error condition is not met and the next step is taken \n",
        "            else:  #It is the first step and must be produced x (n - 1)\n",
        "                return position_false(x ,b ,x ,error, step + 1)  #The interval has changed and saved this x to the previous << x_bofore >>"
      ],
      "metadata": {
        "id": "zQJPasAzf3Fw"
      },
      "execution_count": null,
      "outputs": []
    },
    {
      "cell_type": "code",
      "source": [
        "position_false(1, 2, None, 1e-10)"
      ],
      "metadata": {
        "colab": {
          "base_uri": "https://localhost:8080/",
          "height": 36
        },
        "id": "-DfyQvbGseQt",
        "outputId": "e8006d15-b5c2-4736-e012-a82ae31d261c"
      },
      "execution_count": null,
      "outputs": [
        {
          "output_type": "execute_result",
          "data": {
            "text/plain": [
              "'The root of the function is: 1.5213797067927124 and number of step 20'"
            ],
            "application/vnd.google.colaboratory.intrinsic+json": {
              "type": "string"
            }
          },
          "metadata": {},
          "execution_count": 4
        }
      ]
    }
  ]
}