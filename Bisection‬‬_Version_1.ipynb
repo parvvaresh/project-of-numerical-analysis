{
  "nbformat": 4,
  "nbformat_minor": 0,
  "metadata": {
    "colab": {
      "provenance": [],
      "authorship_tag": "ABX9TyPCFvPRfV9vqUNFQxAvmeVe",
      "include_colab_link": true
    },
    "kernelspec": {
      "name": "python3",
      "display_name": "Python 3"
    },
    "language_info": {
      "name": "python"
    }
  },
  "cells": [
    {
      "cell_type": "markdown",
      "metadata": {
        "id": "view-in-github",
        "colab_type": "text"
      },
      "source": [
        "<a href=\"https://colab.research.google.com/github/parvvaresh/project-of-numerical-analysis/blob/master/Bisection%E2%80%AC%E2%80%AC_Version_1.ipynb\" target=\"_parent\"><img src=\"https://colab.research.google.com/assets/colab-badge.svg\" alt=\"Open In Colab\"/></a>"
      ]
    },
    {
      "cell_type": "markdown",
      "source": [
        "Execute the code with the error : \n",
        "\n",
        "![Screenshot from 2022-12-19 02-01-57.png](data:image/png;base64,iVBORw0KGgoAAAANSUhEUgAAAIEAAAAvCAAAAADh3fYSAAAABGdBTUEAALGPC/xhBQAAACBjSFJNAAB6JgAAgIQAAPoAAACA6AAAdTAAAOpgAAA6mAAAF3CculE8AAAAAmJLR0QA/4ePzL8AAAAHdElNRQfmDBIWIScCF19gAAAAAW9yTlQBz6J3mgAAAjJJREFUWMNj+D/QgGGgHTDqglEXjLpg1AWjLhh1AaYLzp6hvsFEmwl2gbc79V1AtJl0dsHXAXbBzUwj/C74R7TxRKjEdMF+X0azNcgCf9Fc8CuR1e///92yXgQNJ0olmgt+LTZkCT+GHB7RQjyiE1Fc0DKvj+HyJbnSiQRdQJRKFBe8a5cWrniMLH2UJ+Pp/+/vUFzw+/8Lhn6jUxhG/fgMB98gIrhU4nLB3Wxu7ZnfUGTfSGfAmCgpUYVrOaZR8QxwoA8XxKoSlwviWeegy7Yzn3n8+PFHDBeEyWAx6uF5OLgBF8SqEgpeoLvgmBtL8EFUNfq8ykCwAN0FlyQY3v4nCuBRecYpCt0F//9fSWI3mP8DSYCzGM5EcsErvS0Mm0CMQ9P/PJ14CI8DYCqxKKwvs43GdMH//y/rRMVqn8F4/zgKMV2ws99w1V+B2Bcx/2dVCk1IyeD4gct+uEpsCn//z8bqgv//v8/SYo0+DeU4yr/8//8RqgtSmTr//y9lULz0/+d/kej/J1l/43IBXCVC4YXTYPAaJI3LBUCfb3PRgDKvanFqKoX+Q3HBe1De/P/kJ5C4y3D3/1RjnHGAUAlX6G0NBpvxuwAIHsBZL579wUgHcLBI+f//kLz/hAFWhXhdgAVgc0E60Az5JUe+EdSMVWFKOBku8EMt4XUm///vpF5LuPrBonBXPA934kZMMwm4AAv4/ZFIA4hWSKoL6AdGXTDqglEXjLpg1AWjLhhcLgAAcfetz0LAs2AAAAAldEVYdGRhdGU6Y3JlYXRlADIwMjItMTItMThUMjI6MzM6MTMrMDA6MDDJD3AuAAAAJXRFWHRkYXRlOm1vZGlmeQAyMDIyLTEyLTE4VDIyOjMzOjEzKzAwOjAwuFLIkgAAABl0RVh0U29mdHdhcmUAZ25vbWUtc2NyZWVuc2hvdO8Dvz4AAAAASUVORK5CYII=)  ‬ \n"
      ],
      "metadata": {
        "id": "91ALd97TSXs4"
      }
    },
    {
      "cell_type": "code",
      "source": [
        "#Define the objective function\n",
        "def founction(x):\n",
        "  return (x ** 3) - x - 2"
      ],
      "metadata": {
        "id": "Hh1RK9e7SYJo"
      },
      "execution_count": null,
      "outputs": []
    },
    {
      "cell_type": "code",
      "source": [
        "#Definition of the function for theorem ‫‪<Bisection‬‬>\n",
        "\n",
        "#Function inputs that include the start and end of the range and  x(n - 1) from the previous steps and error value and steps\n",
        "def Bisection(a, b, x_before = None, error = 1e-3, step = 0):\n",
        "    #Checking the Bolzano theorem\n",
        "    if founction(a) * founction(b) >= 0: \n",
        "        return False #return false\n",
        "    \n",
        "    else:\n",
        "        #In the best case, maybe the middle point is our root\n",
        "        if founction((a + b) / 2) == 0:\n",
        "            return f\"The root of the function is: {(a + b) / 2}  and number of step {step + 1}\"  # <step + 1> Because a move was made but not counted\n",
        "\n",
        "\n",
        "        #Here the interval is divided into two parts       (a, (a + b) / 2) and ((a + b) / 2, b)\n",
        "        else:\n",
        "\n",
        "            if founction(a) * founction((a + b) / 2) < 0: #Examining Bolzano's theorem for the first interval means: << (a, (a + b) / 2) >>\n",
        "                if x_before != None:  #In the sense that it is not our first step\n",
        "                    if abs((a + b) / 2 - x_before) < error:  # If the error condition is met, you should not continue and end of work\n",
        "                        return f\"The root of the function is: {(a + b) / 2} and number of step {step + 1}\"  # <step + 1> Because a move was made but not counted\n",
        "                    else:\n",
        "                        return Bisection(a , (a + b) / 2, (a + b) / 2 , error, step + 1)  #The error condition is not met and the next step is taken\n",
        "                else:  #It is the first step and must be produced x (n - 1)\n",
        "                    return Bisection(a, (a + b) / 2, (a + b) / 2, error, step + 1)   #The interval has changed and saved this (a + b) / 2 to the previous << x_bofore >>\n",
        "            \n",
        "            elif founction((a + b) / 2) * founction(b) < 0: #Examining Bolzano's theorem for the first interval means: << ((a + b) / 2, b) >>\n",
        "                if x_before != None: #In the sense that it is not our first step\n",
        "                    if abs((a + b) / 2 - x_before) < error:   # If the error condition is met, you should not continue and end of work\n",
        "                        return f\"The root of the function is: {(a + b) / 2} and number of step {step + 1}\"  # <step + 1> Because a move was made but not counted\n",
        "                    else:\n",
        "                        return Bisection((a + b) / 2 , b, (a + b) / 2 , error, step + 1)   #The error condition is not met and the next step is taken\n",
        "                else:  #It is the first step and must be produced x (n - 1)\n",
        "                    return Bisection((a + b) / 2, b, (a + b) / 2, error, step + 1)   #The interval has changed and saved this (a + b) / 2 to the previous << x_bofore >>"
      ],
      "metadata": {
        "id": "3lcBdu9nEJF1"
      },
      "execution_count": null,
      "outputs": []
    },
    {
      "cell_type": "code",
      "source": [
        "Bisection(1, 2, None, 1e-10, 0)"
      ],
      "metadata": {
        "id": "C6Py7Z0e76Ug",
        "colab": {
          "base_uri": "https://localhost:8080/",
          "height": 36
        },
        "outputId": "23ba0907-b8c5-4271-956e-4425a00399ed"
      },
      "execution_count": null,
      "outputs": [
        {
          "output_type": "execute_result",
          "data": {
            "text/plain": [
              "'The root of the function is: 1.5213797068572603 and number of step 34'"
            ],
            "application/vnd.google.colaboratory.intrinsic+json": {
              "type": "string"
            }
          },
          "metadata": {},
          "execution_count": 4
        }
      ]
    }
  ]
}