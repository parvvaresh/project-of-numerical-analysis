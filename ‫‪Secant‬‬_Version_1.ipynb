{
  "nbformat": 4,
  "nbformat_minor": 0,
  "metadata": {
    "colab": {
      "provenance": [],
      "authorship_tag": "ABX9TyPe0vK4Jf1WncjHpvX+dsDA",
      "include_colab_link": true
    },
    "kernelspec": {
      "name": "python3",
      "display_name": "Python 3"
    },
    "language_info": {
      "name": "python"
    }
  },
  "cells": [
    {
      "cell_type": "markdown",
      "metadata": {
        "id": "view-in-github",
        "colab_type": "text"
      },
      "source": [
        "<a href=\"https://colab.research.google.com/github/parvvaresh/project-of-numerical-analysis/blob/master/%E2%80%AB%E2%80%AASecant%E2%80%AC%E2%80%AC_Version_1.ipynb\" target=\"_parent\"><img src=\"https://colab.research.google.com/assets/colab-badge.svg\" alt=\"Open In Colab\"/></a>"
      ]
    },
    {
      "cell_type": "markdown",
      "source": [
        "Execute the code with the error : \n",
        "\n",
        "![Screenshot from 2022-12-19 02-01-57.png](data:image/png;base64,iVBORw0KGgoAAAANSUhEUgAAAIEAAAAvCAAAAADh3fYSAAAABGdBTUEAALGPC/xhBQAAACBjSFJNAAB6JgAAgIQAAPoAAACA6AAAdTAAAOpgAAA6mAAAF3CculE8AAAAAmJLR0QA/4ePzL8AAAAHdElNRQfmDBIWIScCF19gAAAAAW9yTlQBz6J3mgAAAjJJREFUWMNj+D/QgGGgHTDqglEXjLpg1AWjLhh1AaYLzp6hvsFEmwl2gbc79V1AtJl0dsHXAXbBzUwj/C74R7TxRKjEdMF+X0azNcgCf9Fc8CuR1e///92yXgQNJ0olmgt+LTZkCT+GHB7RQjyiE1Fc0DKvj+HyJbnSiQRdQJRKFBe8a5cWrniMLH2UJ+Pp/+/vUFzw+/8Lhn6jUxhG/fgMB98gIrhU4nLB3Wxu7ZnfUGTfSGfAmCgpUYVrOaZR8QxwoA8XxKoSlwviWeegy7Yzn3n8+PFHDBeEyWAx6uF5OLgBF8SqEgpeoLvgmBtL8EFUNfq8ykCwAN0FlyQY3v4nCuBRecYpCt0F//9fSWI3mP8DSYCzGM5EcsErvS0Mm0CMQ9P/PJ14CI8DYCqxKKwvs43GdMH//y/rRMVqn8F4/zgKMV2ws99w1V+B2Bcx/2dVCk1IyeD4gct+uEpsCn//z8bqgv//v8/SYo0+DeU4yr/8//8RqgtSmTr//y9lULz0/+d/kej/J1l/43IBXCVC4YXTYPAaJI3LBUCfb3PRgDKvanFqKoX+Q3HBe1De/P/kJ5C4y3D3/1RjnHGAUAlX6G0NBpvxuwAIHsBZL579wUgHcLBI+f//kLz/hAFWhXhdgAVgc0E60Az5JUe+EdSMVWFKOBku8EMt4XUm///vpF5LuPrBonBXPA934kZMMwm4AAv4/ZFIA4hWSKoL6AdGXTDqglEXjLpg1AWjLhhcLgAAcfetz0LAs2AAAAAldEVYdGRhdGU6Y3JlYXRlADIwMjItMTItMThUMjI6MzM6MTMrMDA6MDDJD3AuAAAAJXRFWHRkYXRlOm1vZGlmeQAyMDIyLTEyLTE4VDIyOjMzOjEzKzAwOjAwuFLIkgAAABl0RVh0U29mdHdhcmUAZ25vbWUtc2NyZWVuc2hvdO8Dvz4AAAAASUVORK5CYII=)  ‬ "
      ],
      "metadata": {
        "id": "pKX895ksgV53"
      }
    },
    {
      "cell_type": "code",
      "source": [
        "#Define the objective function\n",
        "def founction(x):\n",
        "  return (x ** 3) - x - 2"
      ],
      "metadata": {
        "id": "_Lo2hPlhgZSC"
      },
      "execution_count": null,
      "outputs": []
    },
    {
      "cell_type": "code",
      "source": [
        "#Implementation of the part formula: ‫‪Secant‬‬\n",
        "def seacent_calcute_x(x_n_1, x_n_2):\n",
        "  return ((x_n_1 * founction(x_n_2)) - (x_n_2 * founction(x_n_1))) / (founction(x_n_2) - founction(x_n_1))"
      ],
      "metadata": {
        "id": "obev4cp8iu2s"
      },
      "execution_count": null,
      "outputs": []
    },
    {
      "cell_type": "code",
      "source": [
        "#Function input : 2 initial guess and error and steps\n",
        "def seacent(x_n_1, x_n_2, error = 1e-10, step = 0):\n",
        "  x = seacent_calcute_x(x_n_1, x_n_2) # Calculate x(n) with the function we defined ourselves\n",
        "\n",
        "  if abs(x - x_n_1) < error: # If the error condition is met, you should not continue and end of work\n",
        "    return f\"The root of the function is: {x} and number of step {step + 1}\"  #<step + 1> Because a move was made but not counted\n",
        "  else:\n",
        "    return seacent(x, x_n_1, 1e-10, step + 1) #go to next step\n"
      ],
      "metadata": {
        "id": "MyS2QB6lrO8i"
      },
      "execution_count": null,
      "outputs": []
    },
    {
      "cell_type": "code",
      "source": [
        "seacent(1, 2, 1e-10, 0)"
      ],
      "metadata": {
        "colab": {
          "base_uri": "https://localhost:8080/",
          "height": 36
        },
        "id": "-E_BOqRksTEH",
        "outputId": "8ae91217-d31d-4894-acc1-a56a71a83b8d"
      },
      "execution_count": null,
      "outputs": [
        {
          "output_type": "execute_result",
          "data": {
            "text/plain": [
              "'The root of the function is: 1.5213797068045676 and number of step 8'"
            ],
            "application/vnd.google.colaboratory.intrinsic+json": {
              "type": "string"
            }
          },
          "metadata": {},
          "execution_count": 47
        }
      ]
    }
  ]
}